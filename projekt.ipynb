{
  "nbformat": 4,
  "nbformat_minor": 0,
  "metadata": {
    "colab": {
      "name": "Untitled1.ipynb",
      "provenance": [],
      "collapsed_sections": [],
      "include_colab_link": true
    },
    "kernelspec": {
      "display_name": "Python 3",
      "name": "python3"
    }
  },
  "cells": [
    {
      "cell_type": "markdown",
      "metadata": {
        "id": "view-in-github",
        "colab_type": "text"
      },
      "source": [
        "<a href=\"https://colab.research.google.com/github/majaszymajda/PNoD_wyklad/blob/main/projekt.ipynb\" target=\"_parent\"><img src=\"https://colab.research.google.com/assets/colab-badge.svg\" alt=\"Open In Colab\"/></a>"
      ]
    },
    {
      "cell_type": "markdown",
      "metadata": {
        "id": "6MmTtilRZ80f"
      },
      "source": [
        "# Model opracowany za pomocą metody najmniejszych kwadratów\n",
        "\n",
        "Sama metoda najmniejszych kwadratów służy do wyliczenia a – czyli parametrów modelu, a zadanie najmniejszych kwadratów polega na minimalizacji funkcji błędu, która określa różnicę między obserwacjami a wartościami zwracanymi przez model, czyli znalezieniu modelu najlepiej dopasowanego do danych.\n",
        "Do znalezienia krzywej najlepiej dopasowanej.\n"
      ]
    },
    {
      "cell_type": "code",
      "metadata": {
        "id": "qteSqtnog1Rp"
      },
      "source": [
        "import csv\r\n",
        "import time\r\n",
        "from datetime import datetime\r\n",
        "import numpy as np\r\n",
        "import pandas as pd\r\n",
        "import sklearn\r\n",
        "import requests\r\n",
        "\r\n",
        "import matplotlib.pyplot as plt\r\n",
        "from sklearn import datasets, linear_model\r\n",
        "from sklearn.model_selection import train_test_split\r\n",
        "from sklearn.metrics import mean_squared_error, r2_score"
      ],
      "execution_count": null,
      "outputs": []
    },
    {
      "cell_type": "markdown",
      "metadata": {
        "id": "35MbxOMynLob"
      },
      "source": [
        "czytanie pliku csv"
      ]
    },
    {
      "cell_type": "code",
      "metadata": {
        "id": "Gw70aOT_nEuZ"
      },
      "source": [
        "def importowanie_danych_csv(nazwa_pliku):\r\n",
        "    with open(nazwa_pliku) as plik:\r\n",
        "        dane = csv.reader(plik, delimiter=';')\r\n",
        "        dane_tablica = []\r\n",
        "        try:\r\n",
        "            for dana in dane:\r\n",
        "                dane_tablica.append(dana)\r\n",
        "            print(dane_tablica)\r\n",
        "        except csv.Error as error:\r\n",
        "            print(f\"nie udało się wczytać pliku {nazwa_pliku} błąd: {error.msg} \")\r\n",
        "            return None\r\n",
        "\r\n",
        "    return dane_tablica"
      ],
      "execution_count": null,
      "outputs": []
    },
    {
      "cell_type": "markdown",
      "metadata": {
        "id": "Xv3mOEAAnGKw"
      },
      "source": [
        "Pobieranie danych z pliku z mojego githuba"
      ]
    },
    {
      "cell_type": "code",
      "metadata": {
        "colab": {
          "base_uri": "https://localhost:8080/"
        },
        "id": "_IxCcbpSiKxm",
        "outputId": "526d5dca-153a-4da1-e5de-2cd52a901b3e"
      },
      "source": [
        "\r\n",
        "files = [\r\n",
        "  \"czas_kalorie.csv\"\r\n",
        "]\r\n",
        "\r\n",
        "def download_and_save_locally(file):\r\n",
        "    data = requests.get(f'https://github.com/majaszymajda/PNoD_wyklad/raw/main/{file}')\r\n",
        "    if data.status_code != 200:\r\n",
        "      print(f\"Blad pobierania pliku {file}\")\r\n",
        "\r\n",
        "    with open(file, \"wb\") as f:\r\n",
        "      f.write(data.content)\r\n",
        "\r\n",
        "    print(f\"Pobrano plik {file}\")\r\n",
        "    # unzipped_content = gzip.open(io.BytesIO(data))\r\n",
        "   # f'df{file}' = pd.read_csv(unzipped_content, delimiter='\\t')\r\n",
        " \r\n",
        "    # df{file}.head()\r\n",
        "\r\n",
        "for f in files:\r\n",
        "    download_and_save_locally(f)\r\n",
        "    # dane = importowanie_danych_csv(f)\r\n",
        "    dataset = pd.read_csv(f)\r\n",
        "    X = dataset.iloc[ : , : -1]\r\n",
        "    Y = dataset.iloc[ : , -1]"
      ],
      "execution_count": 41,
      "outputs": [
        {
          "output_type": "stream",
          "text": [
            "Pobrano plik czas_kalorie.csv\n"
          ],
          "name": "stdout"
        }
      ]
    },
    {
      "cell_type": "code",
      "metadata": {
        "id": "zo3bLonApYxG"
      },
      "source": [
        "# wilgoc = [] # cisnienie\r\n",
        "# temp = [] # temeperatura\r\n",
        "# czas = [] # czas\r\n",
        "# for i in range(1, 50):\r\n",
        "#  wilgoc.append(float(dane[i][2]))\r\n",
        "#  temp.append(float(dane[i][1]))\r\n",
        "#  czas.append(float(dane[i][0]))\r\n"
      ],
      "execution_count": null,
      "outputs": []
    },
    {
      "cell_type": "markdown",
      "metadata": {
        "id": "SAVKIDCDpKw8"
      },
      "source": [
        "Podział danych na treningowe i testowe"
      ]
    },
    {
      "cell_type": "code",
      "metadata": {
        "id": "h7zzulIA33kS"
      },
      "source": [
        "x = pd.DataFrame(X)\r\n",
        "y = pd.DataFrame(Y)\r\n",
        "\r\n",
        "x_train, x_test, y_train, y_test = train_test_split(x, y, test_size= 0.2, random_state=1)"
      ],
      "execution_count": 42,
      "outputs": []
    },
    {
      "cell_type": "code",
      "metadata": {
        "colab": {
          "base_uri": "https://localhost:8080/"
        },
        "id": "yffvrLu6z7zf",
        "outputId": "18c70679-7cf7-44e0-a6b4-be58a67abca6"
      },
      "source": [
        "print(x_train)\r\n",
        "print(y_train)"
      ],
      "execution_count": 43,
      "outputs": [
        {
          "output_type": "stream",
          "text": [
            "        x\n",
            "19   23.0\n",
            "24  177.0\n",
            "30   17.0\n",
            "17   41.0\n",
            "28    6.0\n",
            "34   19.0\n",
            "31   31.0\n",
            "26   15.0\n",
            "4   108.5\n",
            "14   26.0\n",
            "10   60.0\n",
            "33  146.0\n",
            "23   35.0\n",
            "32   51.0\n",
            "20   45.0\n",
            "18   60.0\n",
            "6    15.0\n",
            "13   35.0\n",
            "7    55.0\n",
            "36   70.0\n",
            "1    32.0\n",
            "16  238.0\n",
            "0    14.5\n",
            "15   33.0\n",
            "5    15.0\n",
            "11   45.0\n",
            "9    20.0\n",
            "8    13.0\n",
            "12   22.0\n",
            "37   37.0\n",
            "      y\n",
            "19  120\n",
            "24  636\n",
            "30   58\n",
            "17  189\n",
            "28   16\n",
            "34   69\n",
            "31  211\n",
            "26   70\n",
            "4   375\n",
            "14  154\n",
            "10  236\n",
            "33  606\n",
            "23  159\n",
            "32  277\n",
            "20  156\n",
            "18  180\n",
            "6    53\n",
            "13  173\n",
            "7   163\n",
            "36  230\n",
            "1   113\n",
            "16  925\n",
            "0    44\n",
            "15  167\n",
            "5    69\n",
            "11  157\n",
            "9    83\n",
            "8    93\n",
            "12   72\n",
            "37  130\n"
          ],
          "name": "stdout"
        }
      ]
    },
    {
      "cell_type": "markdown",
      "metadata": {
        "id": "jxYV84ZHvV1q"
      },
      "source": [
        "wykonanie modelu regeresji liniowej i sprawdzenie jego jakości średnim błędem kwadratowym"
      ]
    },
    {
      "cell_type": "markdown",
      "metadata": {
        "id": "3ZFUcbDwa5wa"
      },
      "source": [
        "Zasada działania MNK:\n",
        "Zakładamy, że dany jest model y=fi(x)^T * W ,\n",
        " (w to wektor parametrów, a fi to wektor cech. Interesuje nas dopasowanie modelu do obserwacji y. Zakładając, że rząd macierzy = M liczymy gradient z funkcji(sumy kwadratów różnic między predykcjami a obserwacjami) i przyrównujemy go do zera, wyliczając w - minimalizacja. W możemy wyliczyć za pomocą liczenia pochodnej po sumie rozwiązując jak równanie, bądź macierzowo. "
      ]
    },
    {
      "cell_type": "code",
      "metadata": {
        "colab": {
          "base_uri": "https://localhost:8080/",
          "height": 335
        },
        "id": "_ZHHPOxRpIU7",
        "outputId": "80f7c450-8a2d-478c-dd12-6c0affb19aa0"
      },
      "source": [
        "\r\n",
        "regr = linear_model.LinearRegression()\r\n",
        "\r\n",
        "regr.fit(x_train, y_train)\r\n",
        "\r\n",
        "# predykcja dla danych testowych\r\n",
        "y_pred = regr.predict(x_test)\r\n",
        "\r\n",
        "# współczynnik regresji\r\n",
        "print('Współczynnik regesji: \\n', regr.coef_)\r\n",
        "# średni bład kwadratowyy\r\n",
        "print('średni błąd kwadratowy: %.2f'\r\n",
        "      % mean_squared_error(y_test, y_pred))\r\n",
        "# współczynnik determinacji \r\n",
        "print('współczynnik determinacji: %.2f'\r\n",
        "      % r2_score(y_test, y_pred))\r\n",
        "\r\n",
        "#print(x_train)\r\n",
        "#print(\"_-----\")\r\n",
        "#print(regr.predict(x_train))\r\n",
        "\r\n",
        "# wykresy\r\n",
        "plt.scatter(x_test, y_test,  color='black')\r\n",
        "plt.plot(x_train, regr.predict(x_train), color='blue')\r\n",
        "plt.xlabel(\"czas\")\r\n",
        "plt.ylabel(\"spalone kalorie\")\r\n",
        "plt.grid(True)\r\n",
        "\r\n",
        "plt.xticks(())\r\n",
        "plt.yticks(())\r\n",
        "\r\n",
        "plt.show()"
      ],
      "execution_count": 44,
      "outputs": [
        {
          "output_type": "stream",
          "text": [
            "Współczynnik regesji: \n",
            " [[3.72336855]]\n",
            "średni błąd kwadratowy: 1900.03\n",
            "współczynnik determinacji: 1.00\n"
          ],
          "name": "stdout"
        },
        {
          "output_type": "display_data",
          "data": {
            "image/png": "[encoded data removed]",
            "text/plain": [
              "<Figure size 432x288 with 1 Axes>"
            ]
          },
          "metadata": {
            "tags": []
          }
        }
      ]
    },
    {
      "cell_type": "markdown",
      "metadata": {
        "id": "j6izVTCEcM5p"
      },
      "source": [
        "MNK używamy gdy np. chcemy zlinearyzować model (można wielomian włożyć w macierz wejść i parametrów)\n",
        "Kiedy możemy operować na gołych(nie modelujemy w żaden dodatkowy sposób) parametrach, czyli estymuje wartość mierzonej wielkości.\n",
        "Zakłócenia są addytywne(sumują się). \n",
        "Wartość oczekiwana zakłóceń jest 0.\n"
      ]
    }
  ]
}