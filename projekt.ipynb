{
  "nbformat": 4,
  "nbformat_minor": 0,
  "metadata": {
    "colab": {
      "name": "Untitled1.ipynb",
      "provenance": [],
      "collapsed_sections": [],
      "authorship_tag": "ABX9TyPmEuzavfFeOZ97LXug9IMD",
      "include_colab_link": true
    },
    "kernelspec": {
      "name": "python3",
      "display_name": "Python 3"
    }
  },
  "cells": [
    {
      "cell_type": "markdown",
      "metadata": {
        "id": "view-in-github",
        "colab_type": "text"
      },
      "source": [
        "<a href=\"https://colab.research.google.com/github/majaszymajda/PNoD_wyklad/blob/main/projekt.ipynb\" target=\"_parent\"><img src=\"https://colab.research.google.com/assets/colab-badge.svg\" alt=\"Open In Colab\"/></a>"
      ]
    },
    {
      "cell_type": "code",
      "metadata": {
        "id": "qteSqtnog1Rp"
      },
      "source": [
        "import csv\r\n",
        "import time\r\n",
        "from datetime import datetime\r\n",
        "import numpy as np\r\n",
        "import pandas as pd\r\n",
        "import sklearn\r\n",
        "import requests\r\n",
        "\r\n",
        "import matplotlib.pyplot as plt\r\n",
        "from sklearn import datasets, linear_model\r\n",
        "from sklearn.model_selection import train_test_split\r\n",
        "from sklearn.metrics import mean_squared_error, r2_score"
      ],
      "execution_count": null,
      "outputs": []
    },
    {
      "cell_type": "markdown",
      "metadata": {
        "id": "35MbxOMynLob"
      },
      "source": [
        "czytanie pliku csv"
      ]
    },
    {
      "cell_type": "code",
      "metadata": {
        "id": "Gw70aOT_nEuZ"
      },
      "source": [
        "def importowanie_danych_csv(nazwa_pliku):\r\n",
        "    with open(nazwa_pliku) as plik:\r\n",
        "        dane = csv.reader(plik, delimiter=';')\r\n",
        "        dane_tablica = []\r\n",
        "        try:\r\n",
        "            for dana in dane:\r\n",
        "                dane_tablica.append(dana)\r\n",
        "            print(dane_tablica)\r\n",
        "        except csv.Error as error:\r\n",
        "            print(f\"nie udało się wczytać pliku {nazwa_pliku} błąd: {error.msg} \")\r\n",
        "            return None\r\n",
        "\r\n",
        "    return dane_tablica"
      ],
      "execution_count": null,
      "outputs": []
    },
    {
      "cell_type": "markdown",
      "metadata": {
        "id": "Xv3mOEAAnGKw"
      },
      "source": [
        "Pobieranie danych z pliku z mojego githuba"
      ]
    },
    {
      "cell_type": "code",
      "metadata": {
        "colab": {
          "base_uri": "https://localhost:8080/"
        },
        "id": "_IxCcbpSiKxm",
        "outputId": "f8067dee-9366-44ee-8118-1b0340a2ffb0"
      },
      "source": [
        "\r\n",
        "files = [\r\n",
        "  \"export_dane_pogodowe.csv\"\r\n",
        "]\r\n",
        "\r\n",
        "def download_and_save_locally(file):\r\n",
        "    data = requests.get(f'https://github.com/majaszymajda/PNoD_wyklad/raw/main/{file}')\r\n",
        "    if data.status_code != 200:\r\n",
        "      print(f\"Blad pobierania pliku {file}\")\r\n",
        "\r\n",
        "    with open(file, \"wb\") as f:\r\n",
        "      f.write(data.content)\r\n",
        "\r\n",
        "    print(f\"Pobrano plik {file}\")\r\n",
        "    # unzipped_content = gzip.open(io.BytesIO(data))\r\n",
        "   # f'df{file}' = pd.read_csv(unzipped_content, delimiter='\\t')\r\n",
        " \r\n",
        "    # df{file}.head()\r\n",
        "\r\n",
        "for f in files:\r\n",
        "    download_and_save_locally(f)\r\n",
        "    dane = importowanie_danych_csv(f)"
      ],
      "execution_count": 5,
      "outputs": [
        {
          "output_type": "stream",
          "text": [
            "Pobrano plik export_dane_pogodowe.csv\n",
            "[['Time', 'Temp', 'Pres'], ['00.00', '7.22', '1013.21'], ['00.15', '7.22', '1013.21'], ['00.30', '7.22', '1013.21'], ['00.45', '7.22', '1013.21'], ['01.00', '7.22', '1013.21'], ['01.15', '6.109999999999999', '1012.7'], ['01.30', '5.0', '1012.19'], ['01.45', '5.555', '1012.19'], ['02.00', '6.11', '1012.19'], ['02.15', '6.11', '1012.19'], ['02.30', '6.11', '1012.19'], ['02.45', '6.11', '1012.19'], ['03.00', '6.11', '1012.19'], ['03.15', '5.555', '1012.19'], ['03.30', '5.0', '1012.19'], ['03.45', '5.0', '1011.85'], ['04.00', '5.0', '1011.51'], ['04.15', '4.445', '1011.51'], ['04.30', '3.89', '1011.51'], ['04.45', '3.335', '1011.51'], ['05.00', '2.78', '1011.51'], ['05.15', '3.335', '1011.51'], ['05.30', '3.89', '1011.51'], ['05.45', '3.89', '1011.51'], ['06.00', '3.89', '1011.51'], ['06.15', '3.335', '1011.51'], ['06.30', '2.78', '1011.51'], ['06.45', '3.335', '1011.51'], ['07.00', '3.89', '1011.51'], ['07.15', '4.445', '1011.51'], ['07.30', '5.0', '1011.51'], ['07.45', '6.109999999999999', '1011.005'], ['08.00', '7.22', '1010.5'], ['08.15', '8.055', '1010.5'], ['08.30', '8.89', '1010.5'], ['08.45', '10.0', '1010.5'], ['09.00', '11.11', '1010.5'], ['09.15', '11.945', '1010.5'], ['09.30', '12.78', '1010.5'], ['09.45', '13.335', '1010.5'], ['10.00', '13.89', '1010.5'], ['10.15', '14.445', '1010.5'], ['10.30', '15.0', '1010.5'], ['10.45', '15.555', '1010.5'], ['11.00', '16.11', '1010.5'], ['11.15', '16.665', '1010.5'], ['11.30', '17.22', '1010.5'], ['11.45', '17.5', '1010.5'], ['12.00', '17.78', '1010.5'], ['12.15', '18.335', '1009.99'], ['12.30', '18.89', '1009.48'], ['12.45', '18.89', '1009.48'], ['13.00', '18.89', '1009.48'], ['13.15', '18.89', '1009.48'], ['13.30', '18.89', '1009.48'], ['13.45', '18.89', '1009.48'], ['14.00', '18.89', '1009.48'], ['14.15', '19.445', '1009.48'], ['14.30', '20.0', '1009.48'], ['14.45', '20.0', '1008.975'], ['15.00', '20.0', '1008.47'], ['15.15', '20.0', '1008.47'], ['15.30', '20.0', '1008.47'], ['15.45', '20.0', '1007.96'], ['16.00', '20.0', '1007.45'], ['16.15', '20.0', '1007.45'], ['16.30', '20.0', '1007.45'], ['16.45', '19.445', '1007.45'], ['17.00', '18.89', '1007.45'], ['17.15', '18.89', '1007.45'], ['17.30', '18.89', '1007.45'], ['17.45', '18.335', '1007.45'], ['18.00', '17.78', '1007.45'], ['18.15', '17.5', '1007.45'], ['18.30', '17.22', '1007.45'], ['18.45', '16.665', '1007.45'], ['19.00', '16.11', '1007.45'], ['19.15', '15.555', '1006.94'], ['19.30', '15.0', '1006.43'], ['19.45', '15.0', '1006.43'], ['20.00', '15.0', '1006.43'], ['20.15', '14.445', '1006.43'], ['20.30', '13.89', '1006.43'], ['20.45', '13.335', '1006.43'], ['21.00', '12.78', '1006.43'], ['21.15', '12.78', '1006.43'], ['21.30', '12.78', '1006.43'], ['21.45', '12.5', '1006.43'], ['22.00', '12.22', '1006.43'], ['22.15', '12.22', '1006.43'], ['22.30', '12.22', '1006.43'], ['22.45', '12.22', '1006.43'], ['23.00', '12.22', '1006.43'], ['23.15', '11.665', '1006.43'], ['23.30', '11.11', '1006.43']]\n"
          ],
          "name": "stdout"
        }
      ]
    },
    {
      "cell_type": "markdown",
      "metadata": {
        "id": "SAVKIDCDpKw8"
      },
      "source": [
        "Podział danych na treningowe i testowe"
      ]
    },
    {
      "cell_type": "code",
      "metadata": {
        "id": "zo3bLonApYxG"
      },
      "source": [
        "wilgoc = [] # cisnienie\r\n",
        "temp = [] # temeperatura\r\n",
        "czas = [] # czas\r\n",
        "for i in range(1, 50):\r\n",
        "  wilgoc.append(float(dane[i][2]))\r\n",
        "  temp.append(float(dane[i][1]))\r\n",
        "  czas.append(float(dane[i][0]))\r\n"
      ],
      "execution_count": 20,
      "outputs": []
    },
    {
      "cell_type": "markdown",
      "metadata": {
        "id": "PLhWJN8j-P8C"
      },
      "source": [
        ""
      ]
    },
    {
      "cell_type": "code",
      "metadata": {
        "id": "h7zzulIA33kS"
      },
      "source": [
        "x = pd.DataFrame(czas)\r\n",
        "y = pd.DataFrame(temp)\r\n",
        "\r\n",
        "x_train, x_test, y_train, y_test = train_test_split(x, y, test_size= 0.2, random_state=0)"
      ],
      "execution_count": 27,
      "outputs": []
    },
    {
      "cell_type": "code",
      "metadata": {
        "id": "yffvrLu6z7zf",
        "colab": {
          "base_uri": "https://localhost:8080/"
        },
        "outputId": "dcdd3d38-d037-4395-dfda-f3845664823d"
      },
      "source": [
        "print(x_test)\r\n",
        "print(y_test)"
      ],
      "execution_count": 17,
      "outputs": [
        {
          "output_type": "stream",
          "text": [
            "        0\n",
            "29   7.15\n",
            "4    1.00\n",
            "26   6.30\n",
            "30   7.30\n",
            "32   8.00\n",
            "37   9.15\n",
            "34   8.30\n",
            "40  10.00\n",
            "7    1.45\n",
            "10   2.30\n",
            "         0\n",
            "29   4.445\n",
            "4    7.220\n",
            "26   2.780\n",
            "30   5.000\n",
            "32   7.220\n",
            "37  11.945\n",
            "34   8.890\n",
            "40  13.890\n",
            "7    5.555\n",
            "10   6.110\n"
          ],
          "name": "stdout"
        }
      ]
    },
    {
      "cell_type": "markdown",
      "metadata": {
        "id": "jxYV84ZHvV1q"
      },
      "source": [
        ""
      ]
    },
    {
      "cell_type": "code",
      "metadata": {
        "colab": {
          "base_uri": "https://localhost:8080/",
          "height": 698
        },
        "id": "_ZHHPOxRpIU7",
        "outputId": "6a49e620-5fed-4f64-cb01-1b9dc6fcca15"
      },
      "source": [
        "\r\n",
        "regr = linear_model.LinearRegression()\r\n",
        "\r\n",
        "regr.fit(x_train, y_train)\r\n",
        "\r\n",
        "# predykcja dla danych testowych\r\n",
        "y_pred = regr.predict(x_test)\r\n",
        "\r\n",
        "# współczynnik regresji\r\n",
        "print('Współczynnik regesji: \\n', regr.coef_)\r\n",
        "# średni bład kwadratowyy\r\n",
        "print('średni błąd kwadratowy: %.2f'\r\n",
        "      % mean_squared_error(y_test, y_pred))\r\n",
        "# współczynnik determinacji \r\n",
        "print('współczynnik determinacji: %.2f'\r\n",
        "      % r2_score(y_test, y_pred))\r\n",
        "\r\n",
        "\r\n",
        "\r\n",
        "# wykresy\r\n",
        "plt.scatter(x_test, y_test,  color='black')\r\n",
        "plt.plot(x_test, y_pred, color='blue', linewidth=3)\r\n",
        "plt.xlabel(\"czas\")\r\n",
        "plt.ylabel(\"temperatura\")\r\n",
        "plt.grid(True)\r\n",
        "\r\n",
        "plt.xticks(())\r\n",
        "plt.yticks(())\r\n",
        "\r\n",
        "plt.show()"
      ],
      "execution_count": 31,
      "outputs": [
        {
          "output_type": "stream",
          "text": [
            "Współczynnik regesji: \n",
            " [[0.98750365]]\n",
            "średni błąd kwadratowy: 11.55\n",
            "współczynnik determinacji: -0.09\n"
          ],
          "name": "stdout"
        },
        {
          "output_type": "error",
          "ename": "KeyError",
          "evalue": "ignored",
          "traceback": [
            "\u001b[0;31m---------------------------------------------------------------------------\u001b[0m",
            "\u001b[0;31mKeyError\u001b[0m                                  Traceback (most recent call last)",
            "\u001b[0;32m<ipython-input-31-2599e3271fe9>\u001b[0m in \u001b[0;36m<module>\u001b[0;34m()\u001b[0m\n\u001b[1;32m     20\u001b[0m \u001b[0;31m# wykresy\u001b[0m\u001b[0;34m\u001b[0m\u001b[0;34m\u001b[0m\u001b[0;34m\u001b[0m\u001b[0m\n\u001b[1;32m     21\u001b[0m \u001b[0mplt\u001b[0m\u001b[0;34m.\u001b[0m\u001b[0mscatter\u001b[0m\u001b[0;34m(\u001b[0m\u001b[0mx_test\u001b[0m\u001b[0;34m,\u001b[0m \u001b[0my_test\u001b[0m\u001b[0;34m,\u001b[0m  \u001b[0mcolor\u001b[0m\u001b[0;34m=\u001b[0m\u001b[0;34m'black'\u001b[0m\u001b[0;34m)\u001b[0m\u001b[0;34m\u001b[0m\u001b[0;34m\u001b[0m\u001b[0m\n\u001b[0;32m---> 22\u001b[0;31m \u001b[0mplt\u001b[0m\u001b[0;34m.\u001b[0m\u001b[0mplot\u001b[0m\u001b[0;34m(\u001b[0m\u001b[0mx_test\u001b[0m\u001b[0;34m,\u001b[0m \u001b[0my_pred\u001b[0m\u001b[0;34m,\u001b[0m \u001b[0mcolor\u001b[0m\u001b[0;34m=\u001b[0m\u001b[0;34m'blue'\u001b[0m\u001b[0;34m,\u001b[0m \u001b[0mlinewidth\u001b[0m\u001b[0;34m=\u001b[0m\u001b[0;36m3\u001b[0m\u001b[0;34m)\u001b[0m\u001b[0;34m\u001b[0m\u001b[0;34m\u001b[0m\u001b[0m\n\u001b[0m\u001b[1;32m     23\u001b[0m \u001b[0mplt\u001b[0m\u001b[0;34m.\u001b[0m\u001b[0mxlabel\u001b[0m\u001b[0;34m(\u001b[0m\u001b[0;34m\"czas\"\u001b[0m\u001b[0;34m)\u001b[0m\u001b[0;34m\u001b[0m\u001b[0;34m\u001b[0m\u001b[0m\n\u001b[1;32m     24\u001b[0m \u001b[0mplt\u001b[0m\u001b[0;34m.\u001b[0m\u001b[0mylabel\u001b[0m\u001b[0;34m(\u001b[0m\u001b[0;34m\"temperatura\"\u001b[0m\u001b[0;34m)\u001b[0m\u001b[0;34m\u001b[0m\u001b[0;34m\u001b[0m\u001b[0m\n",
            "\u001b[0;32m/usr/local/lib/python3.6/dist-packages/matplotlib/pyplot.py\u001b[0m in \u001b[0;36mplot\u001b[0;34m(scalex, scaley, data, *args, **kwargs)\u001b[0m\n\u001b[1;32m   2761\u001b[0m     return gca().plot(\n\u001b[1;32m   2762\u001b[0m         *args, scalex=scalex, scaley=scaley, **({\"data\": data} if data\n\u001b[0;32m-> 2763\u001b[0;31m         is not None else {}), **kwargs)\n\u001b[0m\u001b[1;32m   2764\u001b[0m \u001b[0;34m\u001b[0m\u001b[0m\n\u001b[1;32m   2765\u001b[0m \u001b[0;34m\u001b[0m\u001b[0m\n",
            "\u001b[0;32m/usr/local/lib/python3.6/dist-packages/matplotlib/axes/_axes.py\u001b[0m in \u001b[0;36mplot\u001b[0;34m(self, scalex, scaley, data, *args, **kwargs)\u001b[0m\n\u001b[1;32m   1645\u001b[0m         \"\"\"\n\u001b[1;32m   1646\u001b[0m         \u001b[0mkwargs\u001b[0m \u001b[0;34m=\u001b[0m \u001b[0mcbook\u001b[0m\u001b[0;34m.\u001b[0m\u001b[0mnormalize_kwargs\u001b[0m\u001b[0;34m(\u001b[0m\u001b[0mkwargs\u001b[0m\u001b[0;34m,\u001b[0m \u001b[0mmlines\u001b[0m\u001b[0;34m.\u001b[0m\u001b[0mLine2D\u001b[0m\u001b[0;34m)\u001b[0m\u001b[0;34m\u001b[0m\u001b[0;34m\u001b[0m\u001b[0m\n\u001b[0;32m-> 1647\u001b[0;31m         \u001b[0mlines\u001b[0m \u001b[0;34m=\u001b[0m \u001b[0;34m[\u001b[0m\u001b[0;34m*\u001b[0m\u001b[0mself\u001b[0m\u001b[0;34m.\u001b[0m\u001b[0m_get_lines\u001b[0m\u001b[0;34m(\u001b[0m\u001b[0;34m*\u001b[0m\u001b[0margs\u001b[0m\u001b[0;34m,\u001b[0m \u001b[0mdata\u001b[0m\u001b[0;34m=\u001b[0m\u001b[0mdata\u001b[0m\u001b[0;34m,\u001b[0m \u001b[0;34m**\u001b[0m\u001b[0mkwargs\u001b[0m\u001b[0;34m)\u001b[0m\u001b[0;34m]\u001b[0m\u001b[0;34m\u001b[0m\u001b[0;34m\u001b[0m\u001b[0m\n\u001b[0m\u001b[1;32m   1648\u001b[0m         \u001b[0;32mfor\u001b[0m \u001b[0mline\u001b[0m \u001b[0;32min\u001b[0m \u001b[0mlines\u001b[0m\u001b[0;34m:\u001b[0m\u001b[0;34m\u001b[0m\u001b[0;34m\u001b[0m\u001b[0m\n\u001b[1;32m   1649\u001b[0m             \u001b[0mself\u001b[0m\u001b[0;34m.\u001b[0m\u001b[0madd_line\u001b[0m\u001b[0;34m(\u001b[0m\u001b[0mline\u001b[0m\u001b[0;34m)\u001b[0m\u001b[0;34m\u001b[0m\u001b[0;34m\u001b[0m\u001b[0m\n",
            "\u001b[0;32m/usr/local/lib/python3.6/dist-packages/matplotlib/axes/_base.py\u001b[0m in \u001b[0;36m__call__\u001b[0;34m(self, *args, **kwargs)\u001b[0m\n\u001b[1;32m    214\u001b[0m                 \u001b[0mthis\u001b[0m \u001b[0;34m+=\u001b[0m \u001b[0margs\u001b[0m\u001b[0;34m[\u001b[0m\u001b[0;36m0\u001b[0m\u001b[0;34m]\u001b[0m\u001b[0;34m,\u001b[0m\u001b[0;34m\u001b[0m\u001b[0;34m\u001b[0m\u001b[0m\n\u001b[1;32m    215\u001b[0m                 \u001b[0margs\u001b[0m \u001b[0;34m=\u001b[0m \u001b[0margs\u001b[0m\u001b[0;34m[\u001b[0m\u001b[0;36m1\u001b[0m\u001b[0;34m:\u001b[0m\u001b[0;34m]\u001b[0m\u001b[0;34m\u001b[0m\u001b[0;34m\u001b[0m\u001b[0m\n\u001b[0;32m--> 216\u001b[0;31m             \u001b[0;32myield\u001b[0m \u001b[0;32mfrom\u001b[0m \u001b[0mself\u001b[0m\u001b[0;34m.\u001b[0m\u001b[0m_plot_args\u001b[0m\u001b[0;34m(\u001b[0m\u001b[0mthis\u001b[0m\u001b[0;34m,\u001b[0m \u001b[0mkwargs\u001b[0m\u001b[0;34m)\u001b[0m\u001b[0;34m\u001b[0m\u001b[0;34m\u001b[0m\u001b[0m\n\u001b[0m\u001b[1;32m    217\u001b[0m \u001b[0;34m\u001b[0m\u001b[0m\n\u001b[1;32m    218\u001b[0m     \u001b[0;32mdef\u001b[0m \u001b[0mget_next_color\u001b[0m\u001b[0;34m(\u001b[0m\u001b[0mself\u001b[0m\u001b[0;34m)\u001b[0m\u001b[0;34m:\u001b[0m\u001b[0;34m\u001b[0m\u001b[0;34m\u001b[0m\u001b[0m\n",
            "\u001b[0;32m/usr/local/lib/python3.6/dist-packages/matplotlib/axes/_base.py\u001b[0m in \u001b[0;36m_plot_args\u001b[0;34m(self, tup, kwargs)\u001b[0m\n\u001b[1;32m    329\u001b[0m \u001b[0;34m\u001b[0m\u001b[0m\n\u001b[1;32m    330\u001b[0m         \u001b[0;32mif\u001b[0m \u001b[0mlen\u001b[0m\u001b[0;34m(\u001b[0m\u001b[0mtup\u001b[0m\u001b[0;34m)\u001b[0m \u001b[0;34m==\u001b[0m \u001b[0;36m2\u001b[0m\u001b[0;34m:\u001b[0m\u001b[0;34m\u001b[0m\u001b[0;34m\u001b[0m\u001b[0m\n\u001b[0;32m--> 331\u001b[0;31m             \u001b[0mx\u001b[0m \u001b[0;34m=\u001b[0m \u001b[0m_check_1d\u001b[0m\u001b[0;34m(\u001b[0m\u001b[0mtup\u001b[0m\u001b[0;34m[\u001b[0m\u001b[0;36m0\u001b[0m\u001b[0;34m]\u001b[0m\u001b[0;34m)\u001b[0m\u001b[0;34m\u001b[0m\u001b[0;34m\u001b[0m\u001b[0m\n\u001b[0m\u001b[1;32m    332\u001b[0m             \u001b[0my\u001b[0m \u001b[0;34m=\u001b[0m \u001b[0m_check_1d\u001b[0m\u001b[0;34m(\u001b[0m\u001b[0mtup\u001b[0m\u001b[0;34m[\u001b[0m\u001b[0;34m-\u001b[0m\u001b[0;36m1\u001b[0m\u001b[0;34m]\u001b[0m\u001b[0;34m)\u001b[0m\u001b[0;34m\u001b[0m\u001b[0;34m\u001b[0m\u001b[0m\n\u001b[1;32m    333\u001b[0m         \u001b[0;32melse\u001b[0m\u001b[0;34m:\u001b[0m\u001b[0;34m\u001b[0m\u001b[0;34m\u001b[0m\u001b[0m\n",
            "\u001b[0;32m/usr/local/lib/python3.6/dist-packages/matplotlib/cbook/__init__.py\u001b[0m in \u001b[0;36m_check_1d\u001b[0;34m(x)\u001b[0m\n\u001b[1;32m   1347\u001b[0m                     message='Support for multi-dimensional indexing')\n\u001b[1;32m   1348\u001b[0m \u001b[0;34m\u001b[0m\u001b[0m\n\u001b[0;32m-> 1349\u001b[0;31m                 \u001b[0mndim\u001b[0m \u001b[0;34m=\u001b[0m \u001b[0mx\u001b[0m\u001b[0;34m[\u001b[0m\u001b[0;34m:\u001b[0m\u001b[0;34m,\u001b[0m \u001b[0;32mNone\u001b[0m\u001b[0;34m]\u001b[0m\u001b[0;34m.\u001b[0m\u001b[0mndim\u001b[0m\u001b[0;34m\u001b[0m\u001b[0;34m\u001b[0m\u001b[0m\n\u001b[0m\u001b[1;32m   1350\u001b[0m                 \u001b[0;31m# we have definitely hit a pandas index or series object\u001b[0m\u001b[0;34m\u001b[0m\u001b[0;34m\u001b[0m\u001b[0;34m\u001b[0m\u001b[0m\n\u001b[1;32m   1351\u001b[0m                 \u001b[0;31m# cast to a numpy array.\u001b[0m\u001b[0;34m\u001b[0m\u001b[0;34m\u001b[0m\u001b[0;34m\u001b[0m\u001b[0m\n",
            "\u001b[0;32m/usr/local/lib/python3.6/dist-packages/pandas/core/frame.py\u001b[0m in \u001b[0;36m__getitem__\u001b[0;34m(self, key)\u001b[0m\n\u001b[1;32m   2904\u001b[0m             \u001b[0;32mif\u001b[0m \u001b[0mself\u001b[0m\u001b[0;34m.\u001b[0m\u001b[0mcolumns\u001b[0m\u001b[0;34m.\u001b[0m\u001b[0mnlevels\u001b[0m \u001b[0;34m>\u001b[0m \u001b[0;36m1\u001b[0m\u001b[0;34m:\u001b[0m\u001b[0;34m\u001b[0m\u001b[0;34m\u001b[0m\u001b[0m\n\u001b[1;32m   2905\u001b[0m                 \u001b[0;32mreturn\u001b[0m \u001b[0mself\u001b[0m\u001b[0;34m.\u001b[0m\u001b[0m_getitem_multilevel\u001b[0m\u001b[0;34m(\u001b[0m\u001b[0mkey\u001b[0m\u001b[0;34m)\u001b[0m\u001b[0;34m\u001b[0m\u001b[0;34m\u001b[0m\u001b[0m\n\u001b[0;32m-> 2906\u001b[0;31m             \u001b[0mindexer\u001b[0m \u001b[0;34m=\u001b[0m \u001b[0mself\u001b[0m\u001b[0;34m.\u001b[0m\u001b[0mcolumns\u001b[0m\u001b[0;34m.\u001b[0m\u001b[0mget_loc\u001b[0m\u001b[0;34m(\u001b[0m\u001b[0mkey\u001b[0m\u001b[0;34m)\u001b[0m\u001b[0;34m\u001b[0m\u001b[0;34m\u001b[0m\u001b[0m\n\u001b[0m\u001b[1;32m   2907\u001b[0m             \u001b[0;32mif\u001b[0m \u001b[0mis_integer\u001b[0m\u001b[0;34m(\u001b[0m\u001b[0mindexer\u001b[0m\u001b[0;34m)\u001b[0m\u001b[0;34m:\u001b[0m\u001b[0;34m\u001b[0m\u001b[0;34m\u001b[0m\u001b[0m\n\u001b[1;32m   2908\u001b[0m                 \u001b[0mindexer\u001b[0m \u001b[0;34m=\u001b[0m \u001b[0;34m[\u001b[0m\u001b[0mindexer\u001b[0m\u001b[0;34m]\u001b[0m\u001b[0;34m\u001b[0m\u001b[0;34m\u001b[0m\u001b[0m\n",
            "\u001b[0;32m/usr/local/lib/python3.6/dist-packages/pandas/core/indexes/range.py\u001b[0m in \u001b[0;36mget_loc\u001b[0;34m(self, key, method, tolerance)\u001b[0m\n\u001b[1;32m    356\u001b[0m                 \u001b[0;32mexcept\u001b[0m \u001b[0mValueError\u001b[0m \u001b[0;32mas\u001b[0m \u001b[0merr\u001b[0m\u001b[0;34m:\u001b[0m\u001b[0;34m\u001b[0m\u001b[0;34m\u001b[0m\u001b[0m\n\u001b[1;32m    357\u001b[0m                     \u001b[0;32mraise\u001b[0m \u001b[0mKeyError\u001b[0m\u001b[0;34m(\u001b[0m\u001b[0mkey\u001b[0m\u001b[0;34m)\u001b[0m \u001b[0;32mfrom\u001b[0m \u001b[0merr\u001b[0m\u001b[0;34m\u001b[0m\u001b[0;34m\u001b[0m\u001b[0m\n\u001b[0;32m--> 358\u001b[0;31m             \u001b[0;32mraise\u001b[0m \u001b[0mKeyError\u001b[0m\u001b[0;34m(\u001b[0m\u001b[0mkey\u001b[0m\u001b[0;34m)\u001b[0m\u001b[0;34m\u001b[0m\u001b[0;34m\u001b[0m\u001b[0m\n\u001b[0m\u001b[1;32m    359\u001b[0m         \u001b[0;32mreturn\u001b[0m \u001b[0msuper\u001b[0m\u001b[0;34m(\u001b[0m\u001b[0;34m)\u001b[0m\u001b[0;34m.\u001b[0m\u001b[0mget_loc\u001b[0m\u001b[0;34m(\u001b[0m\u001b[0mkey\u001b[0m\u001b[0;34m,\u001b[0m \u001b[0mmethod\u001b[0m\u001b[0;34m=\u001b[0m\u001b[0mmethod\u001b[0m\u001b[0;34m,\u001b[0m \u001b[0mtolerance\u001b[0m\u001b[0;34m=\u001b[0m\u001b[0mtolerance\u001b[0m\u001b[0;34m)\u001b[0m\u001b[0;34m\u001b[0m\u001b[0;34m\u001b[0m\u001b[0m\n\u001b[1;32m    360\u001b[0m \u001b[0;34m\u001b[0m\u001b[0m\n",
            "\u001b[0;31mKeyError\u001b[0m: (slice(None, None, None), None)"
          ]
        },
        {
          "output_type": "display_data",
          "data": {
            "image/png": "[encoded data removed]",
            "text/plain": [
              "<Figure size 432x288 with 1 Axes>"
            ]
          },
          "metadata": {
            "tags": [],
            "needs_background": "light"
          }
        }
      ]
    }
  ]
}