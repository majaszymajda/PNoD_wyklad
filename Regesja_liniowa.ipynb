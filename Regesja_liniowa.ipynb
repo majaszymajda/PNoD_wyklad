{
  "nbformat": 4,
  "nbformat_minor": 0,
  "metadata": {
    "colab": {
      "name": "Regesja_liniowa.ipynb",
      "provenance": [],
      "collapsed_sections": [],
      "include_colab_link": true
    },
    "kernelspec": {
      "display_name": "Python 3",
      "name": "python3"
    }
  },
  "cells": [
    {
      "cell_type": "markdown",
      "metadata": {
        "id": "view-in-github",
        "colab_type": "text"
      },
      "source": [
        "<a href=\"https://colab.research.google.com/github/majaszymajda/PNoD_wyklad/blob/main/Regesja_liniowa.ipynb\" target=\"_parent\"><img src=\"https://colab.research.google.com/assets/colab-badge.svg\" alt=\"Open In Colab\"/></a>"
      ]
    },
    {
      "cell_type": "markdown",
      "metadata": {
        "id": "6MmTtilRZ80f"
      },
      "source": [
        "# Analiza danych z wykorzystaniem Regresji Liniowej - stworzenie i analiza modelu Metodą Najmniejszych Kwadratów\n",
        "\n",
        "Aby wyznaczyć linię regresji, a tym samym wzór regresji lniowej należy obliczyć współczynniki linii prostej, a i b. W tym celu wykorzystuję metodę najmniejszych kwadratów błędu. Metoda ta dostarcza nam takich współczynników a i b, które powodują, że linia regresji jest najlepiej dopasowana do zebranych danych .\n",
        "Sam wzór na prostą reprezentuje: a - współczynnik regresji i b - wyraz wolny.\n",
        "\n"
      ]
    },
    {
      "cell_type": "markdown",
      "metadata": {
        "id": "1rsCh1jT6ou0"
      },
      "source": [
        "Import potrzebnych bibliotek i funkcji\n",
        "\n"
      ]
    },
    {
      "cell_type": "code",
      "metadata": {
        "id": "qteSqtnog1Rp"
      },
      "source": [
        "import csv\r\n",
        "import time\r\n",
        "from datetime import datetime\r\n",
        "import numpy as np\r\n",
        "import pandas as pd\r\n",
        "import sklearn\r\n",
        "import requests\r\n",
        "from sklearn.dummy import DummyRegressor\r\n",
        "import matplotlib.pyplot as plt\r\n",
        "from sklearn import datasets, linear_model\r\n",
        "from sklearn.model_selection import train_test_split\r\n",
        "from sklearn.metrics import mean_squared_error, r2_score"
      ],
      "execution_count": 12,
      "outputs": []
    },
    {
      "cell_type": "markdown",
      "metadata": {
        "id": "35MbxOMynLob"
      },
      "source": [
        "# Wczytanie pliku csv"
      ]
    },
    {
      "cell_type": "code",
      "metadata": {
        "id": "Gw70aOT_nEuZ"
      },
      "source": [
        "def importowanie_danych_csv(nazwa_pliku):\r\n",
        "    with open(nazwa_pliku) as plik:\r\n",
        "        dane = csv.reader(plik, delimiter=';')\r\n",
        "        dane_tablica = []\r\n",
        "        try:\r\n",
        "            for dana in dane:\r\n",
        "                dane_tablica.append(dana)\r\n",
        "            print(dane_tablica)\r\n",
        "        except csv.Error as error:\r\n",
        "            print(f\"nie udało się wczytać pliku {nazwa_pliku} błąd: {error.msg} \")\r\n",
        "            return None\r\n",
        "\r\n",
        "    return dane_tablica"
      ],
      "execution_count": 13,
      "outputs": []
    },
    {
      "cell_type": "markdown",
      "metadata": {
        "id": "Xv3mOEAAnGKw"
      },
      "source": [
        "# Pobieranie danych z pliku"
      ]
    },
    {
      "cell_type": "code",
      "metadata": {
        "id": "_IxCcbpSiKxm"
      },
      "source": [
        "\r\n",
        "files = [\r\n",
        "  \"czas_kalorie.csv\"\r\n",
        "]\r\n",
        "\r\n",
        "def download_and_save_locally(file):\r\n",
        "    data = requests.get(f'https://github.com/majaszymajda/PNoD_wyklad/raw/main/{file}')\r\n",
        "    if data.status_code != 200:\r\n",
        "      print(f\"Blad pobierania pliku {file}\")\r\n",
        "\r\n",
        "    with open(file, \"wb\") as f:\r\n",
        "      f.write(data.content)\r\n",
        "\r\n",
        "    print(f\"Pobrano plik {file}\")\r\n"
      ],
      "execution_count": 23,
      "outputs": []
    },
    {
      "cell_type": "markdown",
      "metadata": {
        "id": "ZYDJQ4sD687P"
      },
      "source": [
        "# Wczytanie i podział danych"
      ]
    },
    {
      "cell_type": "code",
      "metadata": {
        "colab": {
          "base_uri": "https://localhost:8080/"
        },
        "id": "6VPS8Vic64-t",
        "outputId": "59652cba-f855-4b39-e217-bf4b19489f28"
      },
      "source": [
        "\n",
        "for f in files:\n",
        "    download_and_save_locally(f)\n",
        "    # dane = importowanie_danych_csv(f)\n",
        "    # odczytywanie danych z pliku csv\n",
        "    dataset = pd.read_csv(f)\n",
        "    # podział naszych danych na x i y \n",
        "    X = dataset.iloc[ : , : -1]\n",
        "    Y = dataset.iloc[ : , -1]\n",
        "    "
      ],
      "execution_count": 24,
      "outputs": [
        {
          "output_type": "stream",
          "text": [
            "Pobrano plik czas_kalorie.csv\n"
          ],
          "name": "stdout"
        }
      ]
    },
    {
      "cell_type": "code",
      "metadata": {
        "id": "zo3bLonApYxG"
      },
      "source": [
        "# wilgoc = [] # cisnienie\r\n",
        "# temp = [] # temeperatura\r\n",
        "# czas = [] # czas\r\n",
        "# for i in range(1, 50):\r\n",
        "#  wilgoc.append(float(dane[i][2]))\r\n",
        "#  temp.append(float(dane[i][1]))\r\n",
        "#  czas.append(float(dane[i][0]))\r\n"
      ],
      "execution_count": 16,
      "outputs": []
    },
    {
      "cell_type": "markdown",
      "metadata": {
        "id": "qQmlcZut29D-"
      },
      "source": [
        "#  Przygotowanie danych do dalszej pracy pracy - \"wsadzenie w ramke\""
      ]
    },
    {
      "cell_type": "code",
      "metadata": {
        "id": "V9Jzk0ot278q"
      },
      "source": [
        "x = pd.DataFrame(X)\n",
        "y = pd.DataFrame(Y)\n"
      ],
      "execution_count": 25,
      "outputs": []
    },
    {
      "cell_type": "markdown",
      "metadata": {
        "id": "SAVKIDCDpKw8"
      },
      "source": [
        "# Podział danych na treningowe i testowe\n",
        "Gdzie testowe to 20% z całego zbioru danych"
      ]
    },
    {
      "cell_type": "code",
      "metadata": {
        "id": "h7zzulIA33kS"
      },
      "source": [
        "x_train, x_test, y_train, y_test = train_test_split(x, y, test_size= 0.2, random_state=1)"
      ],
      "execution_count": 26,
      "outputs": []
    },
    {
      "cell_type": "markdown",
      "metadata": {
        "id": "3en_W8ip2gn7"
      },
      "source": [
        "# Wizualizacja danych przed uczeniem maszynowym  "
      ]
    },
    {
      "cell_type": "code",
      "metadata": {
        "colab": {
          "base_uri": "https://localhost:8080/",
          "height": 284
        },
        "id": "yffvrLu6z7zf",
        "outputId": "73e6d961-8fe3-4bb8-f2ac-f6f02c8056a1"
      },
      "source": [
        "# print(x_train)\r\n",
        "# print(y_train)\r\n",
        "plt.scatter(x_train, y_train,  color='black')\r\n",
        "plt.xlabel(\"czas\", fontsize=16)\r\n",
        "plt.ylabel(\"spalone kalorie\", fontsize=16)\r\n",
        "plt.grid(True)\r\n",
        "\r\n",
        "xmin=0 \r\n",
        "xmax=177 \r\n",
        "ymin=0\r\n",
        "ymax=640\r\n",
        "#xmin, xmax, ymin, ymax = plt.axis()\r\n",
        "plt.xlim=(xmin, xmax)\r\n",
        "plt.ylim=(ymin, ymax)\r\n",
        "\r\n",
        "plt.show()"
      ],
      "execution_count": 27,
      "outputs": [
        {
          "output_type": "display_data",
          "data": {
            "image/png": "[encoded data removed]",
            "text/plain": [
              "<Figure size 432x288 with 1 Axes>"
            ]
          },
          "metadata": {
            "tags": [],
            "needs_background": "light"
          }
        }
      ]
    },
    {
      "cell_type": "markdown",
      "metadata": {
        "id": "CdjtUaFF1CVS"
      },
      "source": [
        "Będziemy dążyć do znalezienia modelu jak najlepiej odwzorującego spalane kalorie od czasu trwania treningu"
      ]
    },
    {
      "cell_type": "code",
      "metadata": {
        "colab": {
          "base_uri": "https://localhost:8080/"
        },
        "id": "yI2gFdbb7MsP",
        "outputId": "3fabe9eb-75ff-4f24-8f88-abbe9b876884"
      },
      "source": [
        "dummy_reg= DummyRegressor(strategy='mean')\n",
        "dummy_reg.fit(x_train, y_train)\n",
        "# print(dummy_reg.predict(x_train))\n",
        "print(\"Współczynnik determinacji\")\n",
        "print(dummy_reg.score(x_test, y_test))\n"
      ],
      "execution_count": 20,
      "outputs": [
        {
          "output_type": "stream",
          "text": [
            "Współczynnik determinacji\n",
            "-0.004884063215329748\n"
          ],
          "name": "stdout"
        }
      ]
    },
    {
      "cell_type": "markdown",
      "metadata": {
        "id": "3ZFUcbDwa5wa"
      },
      "source": [
        "Zasada działania MNK:\n",
        "Zakładamy, że dany jest model y=fi(x)^T * W, w to wektor parametrów, a fi to wektor cech. Interesuje nas dopasowanie modelu do obserwacji y. Zakładając, że rząd macierzy = M liczymy gradient z funkcji (sumy kwadratów różnic między predykcjami a obserwacjami) i przyrównujemy go do zera, wyliczając w - minimalizacja. W możemy wyliczyć za pomocą liczenia pochodnej po sumie rozwiązując jak równanie, bądź macierzowo. \n"
      ]
    },
    {
      "cell_type": "markdown",
      "metadata": {
        "id": "jxYV84ZHvV1q"
      },
      "source": [
        "# Wykonanie modelu regeresji liniowej i sprawdzenie jego jakości średnim błędem kwadratowym"
      ]
    },
    {
      "cell_type": "code",
      "metadata": {
        "colab": {
          "base_uri": "https://localhost:8080/"
        },
        "id": "_ZHHPOxRpIU7",
        "outputId": "13e6f2fd-3fa1-469e-a2dd-5aa13459c25f"
      },
      "source": [
        "# regresja liniowa\r\n",
        "regr = linear_model.LinearRegression()\r\n",
        "\r\n",
        "regr.fit(x_train, y_train)\r\n",
        "\r\n",
        "# predykcja dla danych testowych\r\n",
        "y_pred = regr.predict(x_test)\r\n",
        "\r\n",
        "# współczynnik regresji - w f liniowej jest to współczynnik kierunkowy\r\n",
        "print('Współczynnik regesji: \\n', regr.coef_)\r\n",
        "# średni bład kwadratowy - sprawdza jakość modelu \r\n",
        "print('średni błąd kwadratowy: %.2f'\r\n",
        "      % mean_squared_error(y_test, y_pred))\r\n",
        "# współczynnik determinacji -  określa jaka część danych jest wytłumaczona przez model – im większy tym prosta regresji jest lepiej dopasowana do danych\r\n",
        "print('współczynnik determinacji: %.2f' \r\n",
        "      % r2_score(y_test, y_pred))\r\n",
        "\r\n",
        "#print(x_train)\r\n",
        "#print(\"_-----\")\r\n",
        "#print(regr.predict(x_train))\r\n"
      ],
      "execution_count": 21,
      "outputs": [
        {
          "output_type": "stream",
          "text": [
            "Współczynnik regesji: \n",
            " [[2.59998836]]\n",
            "średni błąd kwadratowy: 4357.24\n",
            "współczynnik determinacji: 0.71\n"
          ],
          "name": "stdout"
        }
      ]
    },
    {
      "cell_type": "markdown",
      "metadata": {
        "id": "J46E7vrc4CXW"
      },
      "source": [
        "# Wizualizacja modelu"
      ]
    },
    {
      "cell_type": "code",
      "metadata": {
        "colab": {
          "base_uri": "https://localhost:8080/",
          "height": 302
        },
        "id": "tAzhngX14FRQ",
        "outputId": "f0f83efe-d3d2-45aa-8159-7f1708a0eb38"
      },
      "source": [
        "plt.scatter(x_test, y_test,  color='black')\n",
        "plt.plot(x_train, regr.predict(x_train), color='blue')\n",
        "plt.title(\"spalone kalorie od czasu trwania trenngu\", fontsize=16)\n",
        "\n",
        "plt.xlabel(\"czas\", fontsize=16)\n",
        "plt.ylabel(\"spalone kalorie\", fontsize=16)\n",
        "plt.grid(True)\n",
        "xmin=0 \n",
        "xmax=177 \n",
        "ymin=0\n",
        "ymax=640\n",
        "#xmin, xmax, ymin, ymax = plt.axis()\n",
        "plt.xlim=(xmin, xmax)\n",
        "plt.ylim=(ymin, ymax)\n",
        "plt.show()"
      ],
      "execution_count": 22,
      "outputs": [
        {
          "output_type": "display_data",
          "data": {
            "image/png": "[encoded data removed]",
            "text/plain": [
              "<Figure size 432x288 with 1 Axes>"
            ]
          },
          "metadata": {
            "tags": [],
            "needs_background": "light"
          }
        }
      ]
    },
    {
      "cell_type": "markdown",
      "metadata": {
        "id": "j6izVTCEcM5p"
      },
      "source": [
        "MNK używamy gdy np. chcemy zlinearyzować model (można wielomian włożyć w macierz wejść - chociaż w tym przypadku mamy model jednowymiarowy i parametrów).\n",
        "\n",
        "Kiedy możemy operować na gołych(nie modelujemy w żaden dodatkowy sposób) parametrach, czyli estymuje wartość mierzonej wielkości.\n",
        "Zakłócenia są addytywne(sumują się). \n",
        "Wartość oczekiwana zakłóceń jest 0.\n",
        "Zalety MNK:\n",
        "\n",
        "*   Nie jest potrzeba duża ilość informacji.\n",
        "*   Stosunkowo prosty, mało złożony obliczeniowo.\n",
        "\n",
        "Wady:\n",
        "\n",
        "*  Ignoruje bardziej zaawansowaną wiedzę o modelu\n",
        "*  Zakłada że wartość zakłóceń jest równa 0.\n",
        "\n",
        "\n",
        "\n",
        "\n",
        "\n",
        "\n"
      ]
    }
  ]
}